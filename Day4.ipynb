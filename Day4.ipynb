{
 "cells": [
  {
   "cell_type": "markdown",
   "metadata": {},
   "source": [
    "# Text Mining and NLP Tutorial\n",
    "- NLP - text audio data\n",
    "\n",
    "from NLP (Natural Language Processing) --> NLU (Natural Language Understanding) --> LLM (Large Language Model)\n",
    "\n",
    "Text Mining - is the process of deriving meaningful information from natural language text\n",
    "\n",
    "NLP - components:\n",
    "- NLU\n",
    "     - ambiguity\n",
    "        - lexical Ambiguity\n",
    "            - word having more than one meaning for it. E.g.Bank - river/money \n",
    "        - Syntactic Ambiguity\n",
    "            - also called structural ambiguity - when a sentence can be interpreted more than one way \n",
    "        - Referential AMbiguity\n",
    "            - the context does not make sense , when being interpreted by a collective or single one for.\n",
    "            - E.g. The Teacher told the student to bring their book to class. Ambiguity -  Its unclear whether “their” refers to the teacher or the student.\n",
    "            - E.g. The Manager spoke to the employee while he was leaving the office. Ambiguity - Its unclear whether “he” refers to the manager or the employee.\n",
    "\n",
    "Python nltk\n"
   ]
  },
  {
   "cell_type": "markdown",
   "metadata": {},
   "source": [
    "## lexical Ambiguity"
   ]
  },
  {
   "cell_type": "code",
   "execution_count": 1,
   "metadata": {},
   "outputs": [
    {
     "name": "stderr",
     "output_type": "stream",
     "text": [
      "[nltk_data] Downloading package wordnet to\n",
      "[nltk_data]     C:\\Users\\E1005290\\AppData\\Roaming\\nltk_data...\n"
     ]
    },
    {
     "name": "stdout",
     "output_type": "stream",
     "text": [
      "Synset('savings_bank.n.02') a container (usually with a slot in the top) for keeping money at home\n"
     ]
    }
   ],
   "source": [
    "#lexical Ambiguity\n",
    "\n",
    "import nltk\n",
    "from nltk.wsd import lesk\n",
    "from nltk.corpus import wordnet as wn\n",
    "\n",
    "nltk.download('wordnet')\n",
    "\n",
    "sentence = \" I went to the bank to deposit money\"\n",
    "ambiguousword = \"bank\"\n",
    "\n",
    "sens = lesk(sentence.split(),ambiguousword)\n",
    "print(sens , sens.definition())\n"
   ]
  },
  {
   "cell_type": "markdown",
   "metadata": {},
   "source": [
    "OMW Version 1.4 This page provides access to wordnets in a variety of languages, all linked to the Princeton Wordnet of English (PWN)."
   ]
  },
  {
   "cell_type": "code",
   "execution_count": 2,
   "metadata": {},
   "outputs": [
    {
     "name": "stderr",
     "output_type": "stream",
     "text": [
      "[nltk_data] Downloading package wordnet to\n",
      "[nltk_data]     C:\\Users\\E1005290\\AppData\\Roaming\\nltk_data...\n",
      "[nltk_data]   Package wordnet is already up-to-date!\n",
      "[nltk_data] Downloading package omw-1.4 to\n",
      "[nltk_data]     C:\\Users\\E1005290\\AppData\\Roaming\\nltk_data...\n"
     ]
    },
    {
     "name": "stdout",
     "output_type": "stream",
     "text": [
      "word : bank\n",
      "Ambiguity Detected. The word 'bank' has 18 meanings\n",
      "Meaning : sloping land (especially the slope beside a body of water)\n",
      "Meaning : a financial institution that accepts deposits and channels the money into lending activities\n",
      "Meaning : a long ridge or pile\n",
      "Meaning : an arrangement of similar objects in a row or in tiers\n",
      "Meaning : a supply or stock held in reserve for future use (especially in emergencies)\n",
      "Meaning : the funds held by a gambling house or the dealer in some gambling games\n",
      "Meaning : a slope in the turn of a road or track; the outside is higher than the inside in order to reduce the effects of centrifugal force\n",
      "Meaning : a container (usually with a slot in the top) for keeping money at home\n",
      "Meaning : a building in which the business of banking transacted\n",
      "Meaning : a flight maneuver; aircraft tips laterally about its longitudinal axis (especially in turning)\n",
      "Meaning : tip laterally\n",
      "Meaning : enclose with a bank\n",
      "Meaning : do business with a bank or keep an account at a bank\n",
      "Meaning : act as the banker in a game or in gambling\n",
      "Meaning : be in the banking business\n",
      "Meaning : put into a bank account\n",
      "Meaning : cover with ashes so to control the rate of burning\n",
      "Meaning : have confidence or faith in\n",
      "\n",
      "word : Bark\n",
      "Ambiguity Detected. The word 'Bark' has 9 meanings\n",
      "Meaning : tough protective covering of the woody stems and roots of trees and other woody plants\n",
      "Meaning : a noise resembling the bark of a dog\n",
      "Meaning : a sailing ship with 3 (or more) masts\n",
      "Meaning : the sound made by a dog\n",
      "Meaning : speak in an unfriendly tone\n",
      "Meaning : cover with bark\n",
      "Meaning : remove the bark of a tree\n",
      "Meaning : make barking sounds\n",
      "Meaning : tan (a skin) with bark tannins\n",
      "\n",
      "word : Date\n",
      "Ambiguity Detected. The word 'Date' has 13 meanings\n",
      "Meaning : the specified day of the month\n",
      "Meaning : a participant in a date\n",
      "Meaning : a meeting arranged in advance\n",
      "Meaning : a particular but unspecified point in time\n",
      "Meaning : the present\n",
      "Meaning : the particular day, month, or year (usually according to the Gregorian calendar) that an event occurred\n",
      "Meaning : a particular day specified as the time something happens\n",
      "Meaning : sweet edible fruit of the date palm with a single long woody seed\n",
      "Meaning : go on a date with\n",
      "Meaning : stamp with a date\n",
      "Meaning : assign a date to; determine the (probable) date of\n",
      "Meaning : date regularly; have a steady relationship with\n",
      "Meaning : provide with a dateline; mark with a date\n",
      "\n",
      "word : Judge\n",
      "Ambiguity Detected. The word 'Judge' has 7 meanings\n",
      "Meaning : a public official authorized to decide questions brought before a court of justice\n",
      "Meaning : an authority who is able to estimate worth or quality\n",
      "Meaning : determine the result of (a competition)\n",
      "Meaning : form a critical opinion of\n",
      "Meaning : judge tentatively or form an estimate of (quantities or time)\n",
      "Meaning : pronounce judgment on\n",
      "Meaning : put on trial or hear a case and sit as the judge at the trial of\n",
      "\n",
      "word : Plant\n",
      "Ambiguity Detected. The word 'Plant' has 10 meanings\n",
      "Meaning : buildings for carrying on industrial labor\n",
      "Meaning : (botany) a living organism lacking the power of locomotion\n",
      "Meaning : an actor situated in the audience whose acting is rehearsed but seems spontaneous to the audience\n",
      "Meaning : something planted secretly for discovery by another\n",
      "Meaning : put or set (seeds, seedlings, or plants) into the ground\n",
      "Meaning : fix or set securely or deeply\n",
      "Meaning : set up or lay the groundwork for\n",
      "Meaning : place into a river\n",
      "Meaning : place something or someone in a certain position in order to secretly observe or deceive\n",
      "Meaning : put firmly in the mind\n",
      "\n"
     ]
    }
   ],
   "source": [
    "import nltk\n",
    "from nltk.corpus import wordnet\n",
    "nltk.download('wordnet')\n",
    "nltk.download('omw-1.4')\n",
    "\n",
    "def check_ambiguity(word):\n",
    "  syssets = wordnet.synsets(word)\n",
    "  print(f\"word : {word}\")\n",
    "  if len(syssets) > 1:\n",
    "    print(f\"Ambiguity Detected. The word '{word}' has {len(syssets)} meanings\")\n",
    "    for syn in syssets:\n",
    "      print(f\"Meaning : {syn.definition()}\")\n",
    "  else:\n",
    "    print(f\"The word '{word}' has only one meaning\")\n",
    "\n",
    "words = [\"bank\",\"Bark\",\"Date\",\"Judge\",\"Plant\"]\n",
    "for word in words:\n",
    "  check_ambiguity(word)\n",
    "  print()\n"
   ]
  },
  {
   "cell_type": "code",
   "execution_count": 3,
   "metadata": {},
   "outputs": [
    {
     "name": "stdout",
     "output_type": "stream",
     "text": [
      "sloping land (especially the slope beside a body of water)\n",
      "['they pulled the canoe up on the bank', 'he sat on the bank of the river and watched the currents']\n"
     ]
    },
    {
     "name": "stderr",
     "output_type": "stream",
     "text": [
      "[nltk_data] Downloading package wordnet to\n",
      "[nltk_data]     C:\\Users\\E1005290\\AppData\\Roaming\\nltk_data...\n",
      "[nltk_data]   Package wordnet is already up-to-date!\n",
      "[nltk_data] Downloading package omw-1.4 to\n",
      "[nltk_data]     C:\\Users\\E1005290\\AppData\\Roaming\\nltk_data...\n",
      "[nltk_data]   Package omw-1.4 is already up-to-date!\n"
     ]
    }
   ],
   "source": [
    "from nltk.corpus import wordnet as wn\n",
    "# No need to import 'omw'\n",
    "\n",
    "nltk.download('wordnet')\n",
    "nltk.download('omw-1.4')  # This downloads the resource, not a module\n",
    "\n",
    "a = wn.synset('bank.n.01')  # Specify a synset name, e.g., 'bank.n.01'\n",
    "print(a.definition())\n",
    "print(a.examples())\n"
   ]
  },
  {
   "cell_type": "markdown",
   "metadata": {},
   "source": [
    "## Tokenization \n",
    "first step of NLP how to break the words (Tokens)\n",
    "\n",
    "Uni-Gram - Each word is a single token\n",
    "BI-gram - Two words become a single token \n",
    "TriGram - Three words become a single token"
   ]
  },
  {
   "cell_type": "code",
   "execution_count": 6,
   "metadata": {},
   "outputs": [
    {
     "name": "stdout",
     "output_type": "stream",
     "text": [
      "[('I', 'went', 'to'), ('went', 'to', 'the'), ('to', 'the', 'bank'), ('the', 'bank', 'to'), ('bank', 'to', 'deposit'), ('to', 'deposit', 'money')]\n"
     ]
    }
   ],
   "source": [
    "from nltk.tokenize import RegexpTokenizer\n",
    "from nltk.util import ngrams\n",
    "\n",
    "# Define the sentence\n",
    "sentence = \"I went to the bank to deposit money\"\n",
    "\n",
    "# Tokenize the sentence using RegexpTokenizer\n",
    "tokenizer = RegexpTokenizer(r'\\w+')\n",
    "tokens = tokenizer.tokenize(sentence)\n",
    "\n",
    "# Generate trigrams (3-grams)\n",
    "trigrams = list(ngrams(tokens, 3))\n",
    "\n",
    "# Print the trigrams\n",
    "print(trigrams)\n"
   ]
  },
  {
   "cell_type": "code",
   "execution_count": 9,
   "metadata": {},
   "outputs": [
    {
     "data": {
      "text/plain": [
       "[('I', 'went'),\n",
       " ('went', 'to'),\n",
       " ('to', 'the'),\n",
       " ('the', 'bank'),\n",
       " ('bank', 'to'),\n",
       " ('to', 'deposit'),\n",
       " ('deposit', 'money'),\n",
       " ('money', 'to'),\n",
       " ('to', 'the')]"
      ]
     },
     "execution_count": 9,
     "metadata": {},
     "output_type": "execute_result"
    }
   ],
   "source": [
    "from nltk import bigrams\n",
    "from nltk.tokenize import RegexpTokenizer\n",
    "\n",
    "sentence = \"I went to the bank to deposit money to the\"\n",
    "tokenizer = RegexpTokenizer(r'\\w+')\n",
    "tokens = tokenizer.tokenize(sentence)\n",
    "\n",
    "bigram_list = list(bigrams(tokens))\n",
    "bigram_list\n"
   ]
  },
  {
   "cell_type": "code",
   "execution_count": 11,
   "metadata": {},
   "outputs": [
    {
     "name": "stderr",
     "output_type": "stream",
     "text": [
      "[nltk_data] Downloading package punkt_tab to\n",
      "[nltk_data]     C:\\Users\\E1005290\\AppData\\Roaming\\nltk_data...\n",
      "[nltk_data]   Package punkt_tab is already up-to-date!\n"
     ]
    },
    {
     "name": "stdout",
     "output_type": "stream",
     "text": [
      "[('I', 'went', 'to'), ('went', 'to', 'the'), ('to', 'the', 'bank'), ('the', 'bank', 'to'), ('bank', 'to', 'deposit'), ('to', 'deposit', 'money')]\n"
     ]
    }
   ],
   "source": [
    "import nltk\n",
    "from nltk.util import ngrams\n",
    "\n",
    "nltk.download('punkt_tab')\n",
    "\n",
    "sentence = \"I went to the bank to deposit money\"\n",
    "tokens = nltk.word_tokenize(sentence)\n",
    "\n",
    "bigrams = list(ngrams(tokens, 3))\n",
    "print(bigrams)\n"
   ]
  },
  {
   "cell_type": "code",
   "execution_count": 14,
   "metadata": {},
   "outputs": [
    {
     "name": "stderr",
     "output_type": "stream",
     "text": [
      "[nltk_data] Downloading package punkt_tab to\n",
      "[nltk_data]     C:\\Users\\E1005290\\AppData\\Roaming\\nltk_data...\n",
      "[nltk_data]   Package punkt_tab is already up-to-date!\n"
     ]
    },
    {
     "data": {
      "text/plain": [
       "[('I', 'went'),\n",
       " ('went', 'to'),\n",
       " ('to', 'the'),\n",
       " ('the', 'bank'),\n",
       " ('bank', 'to'),\n",
       " ('to', 'deposit'),\n",
       " ('deposit', 'money'),\n",
       " ('money', 'to'),\n",
       " ('to', 'the')]"
      ]
     },
     "execution_count": 14,
     "metadata": {},
     "output_type": "execute_result"
    }
   ],
   "source": [
    "from nltk import bigrams\n",
    "from nltk.tokenize import word_tokenize\n",
    "nltk.download('punkt_tab')\n",
    "\n",
    "sentence = \"I went to the bank to deposit money to the\"\n",
    "tokens = word_tokenize(sentence)\n",
    "\n",
    "bigram_list = list(bigrams(tokens))\n",
    "bigram_list\n"
   ]
  },
  {
   "cell_type": "code",
   "execution_count": 15,
   "metadata": {},
   "outputs": [
    {
     "name": "stdout",
     "output_type": "stream",
     "text": [
      "Bigram: ('I', 'went'), Frequency: 1\n",
      "Bigram: ('went', 'to'), Frequency: 1\n",
      "Bigram: ('to', 'the'), Frequency: 2\n",
      "Bigram: ('the', 'bank'), Frequency: 1\n",
      "Bigram: ('bank', 'to'), Frequency: 1\n",
      "Bigram: ('to', 'deposit'), Frequency: 1\n",
      "Bigram: ('deposit', 'money'), Frequency: 1\n",
      "Bigram: ('money', 'to'), Frequency: 1\n"
     ]
    }
   ],
   "source": [
    "from nltk import bigrams\n",
    "from nltk.tokenize import word_tokenize\n",
    "from nltk.probability import FreqDist\n",
    "\n",
    "# Sample sentence\n",
    "sentence = \"I went to the bank to deposit money to the\"\n",
    "\n",
    "# Tokenize the sentence\n",
    "tokens = word_tokenize(sentence)\n",
    "\n",
    "# Generate bigrams\n",
    "bigram_list = list(bigrams(tokens))\n",
    "\n",
    "# Compute frequency distribution of bigrams\n",
    "bigram_freq = FreqDist(bigram_list)\n",
    "\n",
    "# Display frequency count of each bigram\n",
    "for bigram, freq in bigram_freq.items():\n",
    "    print(f\"Bigram: {bigram}, Frequency: {freq}\")\n"
   ]
  },
  {
   "cell_type": "markdown",
   "metadata": {},
   "source": [
    "## Stemming\n",
    "\n",
    "Short forms of words \n",
    "\n",
    "Please - pls\n",
    "\n",
    "will got to the root word affection --> affect\n",
    "\n",
    "## Lemmatization\n",
    "goes for the word meanings\n"
   ]
  },
  {
   "cell_type": "code",
   "execution_count": 18,
   "metadata": {},
   "outputs": [
    {
     "name": "stdout",
     "output_type": "stream",
     "text": [
      "orignal words ['running', 'ran', 'runner', 'run', 'easily', 'fairly']\n",
      "\n",
      "Porter steammer Results\n",
      "['run', 'ran', 'runner', 'run', 'easili', 'fairli']\n",
      "\n"
     ]
    },
    {
     "name": "stderr",
     "output_type": "stream",
     "text": [
      "[nltk_data] Downloading package punkt to\n",
      "[nltk_data]     C:\\Users\\E1005290\\AppData\\Roaming\\nltk_data...\n",
      "[nltk_data]   Package punkt is already up-to-date!\n"
     ]
    }
   ],
   "source": [
    "import nltk\n",
    "from nltk.stem import PorterStemmer,WordNetLemmatizer,LancasterStemmer,SnowballStemmer\n",
    "\n",
    "nltk.download('punkt')\n",
    "\n",
    "porter = PorterStemmer() # connectivity - connect\n",
    "lancaster = LancasterStemmer() # connectivity - connec\n",
    "snowball = SnowballStemmer(language='english')\n",
    "\n",
    "words = [\"running\" ,\"ran\",\"runner\",\"run\",\"easily\",\"fairly\"]\n",
    "print(\"orignal words\",words)\n",
    "print()\n",
    "\n",
    "print(\"Porter steammer Results\")\n",
    "porter_stemmed = [porter.stem(word) for word in words]\n",
    "print(porter_stemmed)\n",
    "print()\n"
   ]
  },
  {
   "cell_type": "code",
   "execution_count": 19,
   "metadata": {},
   "outputs": [
    {
     "name": "stderr",
     "output_type": "stream",
     "text": [
      "[nltk_data] Downloading package punkt to\n",
      "[nltk_data]     C:\\Users\\E1005290\\AppData\\Roaming\\nltk_data...\n",
      "[nltk_data]   Package punkt is already up-to-date!\n",
      "[nltk_data] Downloading package wordnet to\n",
      "[nltk_data]     C:\\Users\\E1005290\\AppData\\Roaming\\nltk_data...\n",
      "[nltk_data]   Package wordnet is already up-to-date!\n",
      "[nltk_data] Downloading package omw-1.4 to\n",
      "[nltk_data]     C:\\Users\\E1005290\\AppData\\Roaming\\nltk_data...\n",
      "[nltk_data]   Package omw-1.4 is already up-to-date!\n"
     ]
    },
    {
     "name": "stdout",
     "output_type": "stream",
     "text": [
      "orignal words ['running', 'ran', 'runner', 'run', 'easily', 'fairly']\n",
      "\n",
      "Porter steammer Results\n",
      "['run', 'ran', 'runner', 'run', 'easili', 'fairli']\n",
      "\n",
      "###################################################################\n",
      "orignal words ['running', 'ran', 'runner', 'run', 'easily', 'fairly']\n",
      "\n",
      "Porter lemmatizer Results\n",
      "['running', 'ran', 'runner', 'run', 'easily', 'fairly']\n",
      "\n"
     ]
    }
   ],
   "source": [
    "import nltk\n",
    "from nltk.stem import PorterStemmer,WordNetLemmatizer,LancasterStemmer,SnowballStemmer\n",
    "\n",
    "nltk.download('punkt')\n",
    "\n",
    "porter = PorterStemmer()\n",
    "lancaster = LancasterStemmer()\n",
    "snowball = SnowballStemmer(language='english')\n",
    "\n",
    "words = [\"running\" ,\"ran\",\"runner\",\"run\",\"easily\",\"fairly\"]\n",
    "print(\"orignal words\",words)\n",
    "print()\n",
    "\n",
    "print(\"Porter steammer Results\")\n",
    "porter_stemmed = [porter.stem(word) for word in words]\n",
    "print(porter_stemmed)\n",
    "print()\n",
    "\n",
    "print(\"###################################################################\")\n",
    "\n",
    "from nltk.stem import WordNetLemmatizer\n",
    "nltk.download('wordnet')\n",
    "nltk.download('omw-1.4')\n",
    "\n",
    "lemmatizer = WordNetLemmatizer()\n",
    "\n",
    "words = [\"running\" ,\"ran\",\"runner\",\"run\",\"easily\",\"fairly\"]\n",
    "print(\"orignal words\",words)\n",
    "print()\n",
    "\n",
    "print(\"Porter lemmatizer Results\")\n",
    "lemmatized_words = [lemmatizer.lemmatize(word) for word in words]\n",
    "print(lemmatized_words)\n",
    "print()\n"
   ]
  },
  {
   "cell_type": "markdown",
   "metadata": {},
   "source": [
    "### Stop words"
   ]
  },
  {
   "cell_type": "code",
   "execution_count": 20,
   "metadata": {},
   "outputs": [
    {
     "name": "stderr",
     "output_type": "stream",
     "text": [
      "[nltk_data] Downloading package stopwords to\n",
      "[nltk_data]     C:\\Users\\E1005290\\AppData\\Roaming\\nltk_data...\n"
     ]
    },
    {
     "name": "stdout",
     "output_type": "stream",
     "text": [
      "['i', 'me', 'my', 'myself', 'we', 'our', 'ours', 'ourselves', 'you', \"you're\", \"you've\", \"you'll\", \"you'd\", 'your', 'yours', 'yourself', 'yourselves', 'he', 'him', 'his', 'himself', 'she', \"she's\", 'her', 'hers', 'herself', 'it', \"it's\", 'its', 'itself', 'they', 'them', 'their', 'theirs', 'themselves', 'what', 'which', 'who', 'whom', 'this', 'that', \"that'll\", 'these', 'those', 'am', 'is', 'are', 'was', 'were', 'be', 'been', 'being', 'have', 'has', 'had', 'having', 'do', 'does', 'did', 'doing', 'a', 'an', 'the', 'and', 'but', 'if', 'or', 'because', 'as', 'until', 'while', 'of', 'at', 'by', 'for', 'with', 'about', 'against', 'between', 'into', 'through', 'during', 'before', 'after', 'above', 'below', 'to', 'from', 'up', 'down', 'in', 'out', 'on', 'off', 'over', 'under', 'again', 'further', 'then', 'once', 'here', 'there', 'when', 'where', 'why', 'how', 'all', 'any', 'both', 'each', 'few', 'more', 'most', 'other', 'some', 'such', 'no', 'nor', 'not', 'only', 'own', 'same', 'so', 'than', 'too', 'very', 's', 't', 'can', 'will', 'just', 'don', \"don't\", 'should', \"should've\", 'now', 'd', 'll', 'm', 'o', 're', 've', 'y', 'ain', 'aren', \"aren't\", 'couldn', \"couldn't\", 'didn', \"didn't\", 'doesn', \"doesn't\", 'hadn', \"hadn't\", 'hasn', \"hasn't\", 'haven', \"haven't\", 'isn', \"isn't\", 'ma', 'mightn', \"mightn't\", 'mustn', \"mustn't\", 'needn', \"needn't\", 'shan', \"shan't\", 'shouldn', \"shouldn't\", 'wasn', \"wasn't\", 'weren', \"weren't\", 'won', \"won't\", 'wouldn', \"wouldn't\"]\n"
     ]
    },
    {
     "name": "stderr",
     "output_type": "stream",
     "text": [
      "[nltk_data]   Unzipping corpora\\stopwords.zip.\n"
     ]
    }
   ],
   "source": [
    "# prompt: List of stop words NLP\n",
    "\n",
    "from nltk.corpus import stopwords\n",
    "nltk.download('stopwords')\n",
    "stop_words = stopwords.words('english')\n",
    "print(stop_words)\n"
   ]
  },
  {
   "cell_type": "markdown",
   "metadata": {},
   "source": [
    "### Parts of Speech"
   ]
  },
  {
   "cell_type": "code",
   "execution_count": 8,
   "metadata": {},
   "outputs": [
    {
     "name": "stderr",
     "output_type": "stream",
     "text": [
      "[nltk_data] Downloading package punkt to\n",
      "[nltk_data]     C:\\Users\\E1005290\\AppData\\Roaming\\nltk_data...\n",
      "[nltk_data]   Package punkt is already up-to-date!\n",
      "[nltk_data] Downloading package punkt_tab to\n",
      "[nltk_data]     C:\\Users\\E1005290\\AppData\\Roaming\\nltk_data...\n",
      "[nltk_data]   Package punkt_tab is already up-to-date!\n",
      "[nltk_data] Downloading package averaged_perceptron_tagger to\n",
      "[nltk_data]     C:\\Users\\E1005290\\AppData\\Roaming\\nltk_data...\n",
      "[nltk_data]   Package averaged_perceptron_tagger is already up-to-\n",
      "[nltk_data]       date!\n"
     ]
    },
    {
     "data": {
      "text/plain": [
       "[('This', 'DT'),\n",
       " ('is', 'VBZ'),\n",
       " ('a', 'DT'),\n",
       " ('sample', 'JJ'),\n",
       " ('sentence', 'NN'),\n",
       " ('for', 'IN'),\n",
       " ('parts', 'NNS'),\n",
       " ('of', 'IN'),\n",
       " ('speech', 'NN'),\n",
       " ('tagging', 'NN'),\n",
       " ('.', '.')]"
      ]
     },
     "execution_count": 8,
     "metadata": {},
     "output_type": "execute_result"
    }
   ],
   "source": [
    "# prompt: parts of speech NLP code\n",
    "import nltk\n",
    "nltk.download('punkt')\n",
    "nltk.download('punkt_tab')\n",
    "# nltk.download('averaged_perceptron_tagger_tab')\n",
    "nltk.download('averaged_perceptron_tagger')\n",
    "\n",
    "text = \"This is a sample sentence for parts of speech tagging.\"\n",
    "tokens = nltk.word_tokenize(text)\n",
    "pos_tags = nltk.pos_tag(tokens)\n",
    "\n",
    "pos_tags\n"
   ]
  },
  {
   "cell_type": "code",
   "execution_count": 4,
   "metadata": {},
   "outputs": [
    {
     "name": "stdout",
     "output_type": "stream",
     "text": [
      "Names Entities\n",
      "Microsoft Corporation (ORG)\n",
      "American (NORP)\n",
      "Redmond (GPE)\n",
      "Windows (NORP)\n",
      "Microsoft (ORG)\n",
      "Azure (ORG)\n",
      "Edge (ORG)\n",
      "Xbox (ORG)\n",
      "Microsoft Surface (ORG)\n",
      "Microsoft (ORG)\n",
      "14 (CARDINAL)\n",
      "2022 (DATE)\n",
      "Fortune 500 (LAW)\n",
      "United States (GPE)\n",
      "revenue;[3] (PERSON)\n",
      "2022 (DATE)\n",
      "Forbes Global 2000 (ORG)\n",
      "American (NORP)\n",
      "Alphabet (GPE)\n",
      "Google (ORG)\n",
      "Amazon (ORG)\n",
      "Apple (ORG)\n",
      "Meta (ORG)\n"
     ]
    }
   ],
   "source": [
    "import spacy\n",
    "from spacy import displacy\n",
    "nlp = spacy.load(\"en_core_web_sm\")\n",
    "text = \"Microsoft Corporation is an American multinational corporation and technology company headquartered in Redmond, Washington.[2] Its best-known software products are the Windows line of operating systems, the Microsoft 365 suite of productivity applications, the Azure cloud computing platform and the Edge web browser. Its flagship hardware products are the Xbox video game consoles and the Microsoft Surface lineup of touchscreen personal computers. Microsoft ranked No. 14 in the 2022 Fortune 500 rankings of the largest United States corporations by total revenue;[3] and it was the world's largest software maker by revenue in 2022 according to Forbes Global 2000. It is considered one of the Big Five American information technology companies, alongside Alphabet (parent company of Google), Amazon, Apple, and Meta (parent company of Facebook).\"\n",
    "doc = nlp(text)\n",
    "\n",
    "print(\"Names Entities\")\n",
    "for ent in doc.ents:\n",
    "  print(f\"{ent.text} ({ent.label_})\")\n"
   ]
  },
  {
   "cell_type": "code",
   "execution_count": 3,
   "metadata": {},
   "outputs": [
    {
     "name": "stdout",
     "output_type": "stream",
     "text": [
      "[('This', 'PRON'), ('is', 'AUX'), ('a', 'DET'), ('sample', 'NOUN'), ('sentence', 'NOUN'), ('for', 'ADP'), ('parts', 'NOUN'), ('of', 'ADP'), ('speech', 'NOUN'), ('tagging', 'NOUN'), ('.', 'PUNCT')]\n"
     ]
    }
   ],
   "source": [
    "import spacy\n",
    "\n",
    "# Load the SpaCy model\n",
    "nlp = spacy.load('en_core_web_sm')\n",
    "\n",
    "# Define the text to be processed\n",
    "text = \"This is a sample sentence for parts of speech tagging.\"\n",
    "\n",
    "# Process the text with SpaCy\n",
    "doc = nlp(text)\n",
    "\n",
    "# Extract and print POS tags\n",
    "pos_tags = [(token.text, token.pos_) for token in doc]\n",
    "print(pos_tags)\n"
   ]
  },
  {
   "cell_type": "code",
   "execution_count": 5,
   "metadata": {},
   "outputs": [
    {
     "name": "stdout",
     "output_type": "stream",
     "text": [
      "Names Entities\n",
      "Microsoft Corporation (ORG)\n",
      "American (NORP)\n",
      "Redmond (GPE)\n",
      "Windows (NORP)\n",
      "Microsoft (ORG)\n",
      "Azure (ORG)\n",
      "Edge (ORG)\n",
      "Xbox (ORG)\n",
      "Microsoft Surface (ORG)\n",
      "Microsoft (ORG)\n",
      "14 (CARDINAL)\n",
      "2022 (DATE)\n",
      "Fortune 500 (LAW)\n",
      "United States (GPE)\n",
      "revenue;[3] (PERSON)\n",
      "2022 (DATE)\n",
      "Forbes Global 2000 (ORG)\n",
      "American (NORP)\n",
      "Alphabet (GPE)\n",
      "Google (ORG)\n",
      "Amazon (ORG)\n",
      "Apple (ORG)\n",
      "Meta (ORG)\n"
     ]
    },
    {
     "data": {
      "text/html": [
       "<span class=\"tex2jax_ignore\"><div class=\"entities\" style=\"line-height: 2.5; direction: ltr\">\n",
       "<mark class=\"entity\" style=\"background: #7aecec; padding: 0.45em 0.6em; margin: 0 0.25em; line-height: 1; border-radius: 0.35em;\">\n",
       "    Microsoft Corporation\n",
       "    <span style=\"font-size: 0.8em; font-weight: bold; line-height: 1; border-radius: 0.35em; vertical-align: middle; margin-left: 0.5rem\">ORG</span>\n",
       "</mark>\n",
       " is an \n",
       "<mark class=\"entity\" style=\"background: #c887fb; padding: 0.45em 0.6em; margin: 0 0.25em; line-height: 1; border-radius: 0.35em;\">\n",
       "    American\n",
       "    <span style=\"font-size: 0.8em; font-weight: bold; line-height: 1; border-radius: 0.35em; vertical-align: middle; margin-left: 0.5rem\">NORP</span>\n",
       "</mark>\n",
       " multinational corporation and technology company headquartered in \n",
       "<mark class=\"entity\" style=\"background: #feca74; padding: 0.45em 0.6em; margin: 0 0.25em; line-height: 1; border-radius: 0.35em;\">\n",
       "    Redmond\n",
       "    <span style=\"font-size: 0.8em; font-weight: bold; line-height: 1; border-radius: 0.35em; vertical-align: middle; margin-left: 0.5rem\">GPE</span>\n",
       "</mark>\n",
       ", Washington.[2] Its best-known software products are the \n",
       "<mark class=\"entity\" style=\"background: #c887fb; padding: 0.45em 0.6em; margin: 0 0.25em; line-height: 1; border-radius: 0.35em;\">\n",
       "    Windows\n",
       "    <span style=\"font-size: 0.8em; font-weight: bold; line-height: 1; border-radius: 0.35em; vertical-align: middle; margin-left: 0.5rem\">NORP</span>\n",
       "</mark>\n",
       " line of operating systems, the \n",
       "<mark class=\"entity\" style=\"background: #7aecec; padding: 0.45em 0.6em; margin: 0 0.25em; line-height: 1; border-radius: 0.35em;\">\n",
       "    Microsoft\n",
       "    <span style=\"font-size: 0.8em; font-weight: bold; line-height: 1; border-radius: 0.35em; vertical-align: middle; margin-left: 0.5rem\">ORG</span>\n",
       "</mark>\n",
       " 365 suite of productivity applications, the \n",
       "<mark class=\"entity\" style=\"background: #7aecec; padding: 0.45em 0.6em; margin: 0 0.25em; line-height: 1; border-radius: 0.35em;\">\n",
       "    Azure\n",
       "    <span style=\"font-size: 0.8em; font-weight: bold; line-height: 1; border-radius: 0.35em; vertical-align: middle; margin-left: 0.5rem\">ORG</span>\n",
       "</mark>\n",
       " cloud computing platform and the \n",
       "<mark class=\"entity\" style=\"background: #7aecec; padding: 0.45em 0.6em; margin: 0 0.25em; line-height: 1; border-radius: 0.35em;\">\n",
       "    Edge\n",
       "    <span style=\"font-size: 0.8em; font-weight: bold; line-height: 1; border-radius: 0.35em; vertical-align: middle; margin-left: 0.5rem\">ORG</span>\n",
       "</mark>\n",
       " web browser. Its flagship hardware products are the \n",
       "<mark class=\"entity\" style=\"background: #7aecec; padding: 0.45em 0.6em; margin: 0 0.25em; line-height: 1; border-radius: 0.35em;\">\n",
       "    Xbox\n",
       "    <span style=\"font-size: 0.8em; font-weight: bold; line-height: 1; border-radius: 0.35em; vertical-align: middle; margin-left: 0.5rem\">ORG</span>\n",
       "</mark>\n",
       " video game consoles and the \n",
       "<mark class=\"entity\" style=\"background: #7aecec; padding: 0.45em 0.6em; margin: 0 0.25em; line-height: 1; border-radius: 0.35em;\">\n",
       "    Microsoft Surface\n",
       "    <span style=\"font-size: 0.8em; font-weight: bold; line-height: 1; border-radius: 0.35em; vertical-align: middle; margin-left: 0.5rem\">ORG</span>\n",
       "</mark>\n",
       " lineup of touchscreen personal computers. \n",
       "<mark class=\"entity\" style=\"background: #7aecec; padding: 0.45em 0.6em; margin: 0 0.25em; line-height: 1; border-radius: 0.35em;\">\n",
       "    Microsoft\n",
       "    <span style=\"font-size: 0.8em; font-weight: bold; line-height: 1; border-radius: 0.35em; vertical-align: middle; margin-left: 0.5rem\">ORG</span>\n",
       "</mark>\n",
       " ranked No. \n",
       "<mark class=\"entity\" style=\"background: #e4e7d2; padding: 0.45em 0.6em; margin: 0 0.25em; line-height: 1; border-radius: 0.35em;\">\n",
       "    14\n",
       "    <span style=\"font-size: 0.8em; font-weight: bold; line-height: 1; border-radius: 0.35em; vertical-align: middle; margin-left: 0.5rem\">CARDINAL</span>\n",
       "</mark>\n",
       " in the \n",
       "<mark class=\"entity\" style=\"background: #bfe1d9; padding: 0.45em 0.6em; margin: 0 0.25em; line-height: 1; border-radius: 0.35em;\">\n",
       "    2022\n",
       "    <span style=\"font-size: 0.8em; font-weight: bold; line-height: 1; border-radius: 0.35em; vertical-align: middle; margin-left: 0.5rem\">DATE</span>\n",
       "</mark>\n",
       " \n",
       "<mark class=\"entity\" style=\"background: #ff8197; padding: 0.45em 0.6em; margin: 0 0.25em; line-height: 1; border-radius: 0.35em;\">\n",
       "    Fortune 500\n",
       "    <span style=\"font-size: 0.8em; font-weight: bold; line-height: 1; border-radius: 0.35em; vertical-align: middle; margin-left: 0.5rem\">LAW</span>\n",
       "</mark>\n",
       " rankings of the largest \n",
       "<mark class=\"entity\" style=\"background: #feca74; padding: 0.45em 0.6em; margin: 0 0.25em; line-height: 1; border-radius: 0.35em;\">\n",
       "    United States\n",
       "    <span style=\"font-size: 0.8em; font-weight: bold; line-height: 1; border-radius: 0.35em; vertical-align: middle; margin-left: 0.5rem\">GPE</span>\n",
       "</mark>\n",
       " corporations by total \n",
       "<mark class=\"entity\" style=\"background: #aa9cfc; padding: 0.45em 0.6em; margin: 0 0.25em; line-height: 1; border-radius: 0.35em;\">\n",
       "    revenue;[3]\n",
       "    <span style=\"font-size: 0.8em; font-weight: bold; line-height: 1; border-radius: 0.35em; vertical-align: middle; margin-left: 0.5rem\">PERSON</span>\n",
       "</mark>\n",
       " and it was the world's largest software maker by revenue in \n",
       "<mark class=\"entity\" style=\"background: #bfe1d9; padding: 0.45em 0.6em; margin: 0 0.25em; line-height: 1; border-radius: 0.35em;\">\n",
       "    2022\n",
       "    <span style=\"font-size: 0.8em; font-weight: bold; line-height: 1; border-radius: 0.35em; vertical-align: middle; margin-left: 0.5rem\">DATE</span>\n",
       "</mark>\n",
       " according to \n",
       "<mark class=\"entity\" style=\"background: #7aecec; padding: 0.45em 0.6em; margin: 0 0.25em; line-height: 1; border-radius: 0.35em;\">\n",
       "    Forbes Global 2000\n",
       "    <span style=\"font-size: 0.8em; font-weight: bold; line-height: 1; border-radius: 0.35em; vertical-align: middle; margin-left: 0.5rem\">ORG</span>\n",
       "</mark>\n",
       ". It is considered one of the Big Five \n",
       "<mark class=\"entity\" style=\"background: #c887fb; padding: 0.45em 0.6em; margin: 0 0.25em; line-height: 1; border-radius: 0.35em;\">\n",
       "    American\n",
       "    <span style=\"font-size: 0.8em; font-weight: bold; line-height: 1; border-radius: 0.35em; vertical-align: middle; margin-left: 0.5rem\">NORP</span>\n",
       "</mark>\n",
       " information technology companies, alongside \n",
       "<mark class=\"entity\" style=\"background: #feca74; padding: 0.45em 0.6em; margin: 0 0.25em; line-height: 1; border-radius: 0.35em;\">\n",
       "    Alphabet\n",
       "    <span style=\"font-size: 0.8em; font-weight: bold; line-height: 1; border-radius: 0.35em; vertical-align: middle; margin-left: 0.5rem\">GPE</span>\n",
       "</mark>\n",
       " (parent company of \n",
       "<mark class=\"entity\" style=\"background: #7aecec; padding: 0.45em 0.6em; margin: 0 0.25em; line-height: 1; border-radius: 0.35em;\">\n",
       "    Google\n",
       "    <span style=\"font-size: 0.8em; font-weight: bold; line-height: 1; border-radius: 0.35em; vertical-align: middle; margin-left: 0.5rem\">ORG</span>\n",
       "</mark>\n",
       "), \n",
       "<mark class=\"entity\" style=\"background: #7aecec; padding: 0.45em 0.6em; margin: 0 0.25em; line-height: 1; border-radius: 0.35em;\">\n",
       "    Amazon\n",
       "    <span style=\"font-size: 0.8em; font-weight: bold; line-height: 1; border-radius: 0.35em; vertical-align: middle; margin-left: 0.5rem\">ORG</span>\n",
       "</mark>\n",
       ", \n",
       "<mark class=\"entity\" style=\"background: #7aecec; padding: 0.45em 0.6em; margin: 0 0.25em; line-height: 1; border-radius: 0.35em;\">\n",
       "    Apple\n",
       "    <span style=\"font-size: 0.8em; font-weight: bold; line-height: 1; border-radius: 0.35em; vertical-align: middle; margin-left: 0.5rem\">ORG</span>\n",
       "</mark>\n",
       ", and \n",
       "<mark class=\"entity\" style=\"background: #7aecec; padding: 0.45em 0.6em; margin: 0 0.25em; line-height: 1; border-radius: 0.35em;\">\n",
       "    Meta\n",
       "    <span style=\"font-size: 0.8em; font-weight: bold; line-height: 1; border-radius: 0.35em; vertical-align: middle; margin-left: 0.5rem\">ORG</span>\n",
       "</mark>\n",
       " (parent company of Facebook).</div></span>"
      ],
      "text/plain": [
       "<IPython.core.display.HTML object>"
      ]
     },
     "metadata": {},
     "output_type": "display_data"
    }
   ],
   "source": [
    "import spacy\n",
    "from spacy import displacy\n",
    "nlp = spacy.load(\"en_core_web_sm\")\n",
    "text = \"Microsoft Corporation is an American multinational corporation and technology company headquartered in Redmond, Washington.[2] Its best-known software products are the Windows line of operating systems, the Microsoft 365 suite of productivity applications, the Azure cloud computing platform and the Edge web browser. Its flagship hardware products are the Xbox video game consoles and the Microsoft Surface lineup of touchscreen personal computers. Microsoft ranked No. 14 in the 2022 Fortune 500 rankings of the largest United States corporations by total revenue;[3] and it was the world's largest software maker by revenue in 2022 according to Forbes Global 2000. It is considered one of the Big Five American information technology companies, alongside Alphabet (parent company of Google), Amazon, Apple, and Meta (parent company of Facebook).\"\n",
    "doc = nlp(text)\n",
    "\n",
    "print(\"Names Entities\")\n",
    "for ent in doc.ents:\n",
    "  print(f\"{ent.text} ({ent.label_})\")\n",
    "\n",
    "  \"\"\"NORP = Nationalities, religious or political groups\n",
    "  ORG = Companies, agencies, institutions, etc.\n",
    "  GPE = Countries, cities, states.\n",
    "  PERSON = People, including fictional.\"\"\"\n",
    "\n",
    "displacy.render(doc, style=\"ent\", jupyter=True)\n"
   ]
  },
  {
   "cell_type": "markdown",
   "metadata": {},
   "source": [
    "### syntext tree python NLP"
   ]
  },
  {
   "cell_type": "code",
   "execution_count": 9,
   "metadata": {},
   "outputs": [
    {
     "data": {
      "text/html": [
       "<span class=\"tex2jax_ignore\"><svg xmlns=\"http://www.w3.org/2000/svg\" xmlns:xlink=\"http://www.w3.org/1999/xlink\" xml:lang=\"en\" id=\"bce4a88e924c4b8ea481456b416927f4-0\" class=\"displacy\" width=\"925\" height=\"399.5\" direction=\"ltr\" style=\"max-width: none; height: 399.5px; color: #000000; background: #ffffff; font-family: Arial; direction: ltr\">\n",
       "<text class=\"displacy-token\" fill=\"currentColor\" text-anchor=\"middle\" y=\"309.5\">\n",
       "    <tspan class=\"displacy-word\" fill=\"currentColor\" x=\"50\">This</tspan>\n",
       "    <tspan class=\"displacy-tag\" dy=\"2em\" fill=\"currentColor\" x=\"50\">PRON</tspan>\n",
       "</text>\n",
       "\n",
       "<text class=\"displacy-token\" fill=\"currentColor\" text-anchor=\"middle\" y=\"309.5\">\n",
       "    <tspan class=\"displacy-word\" fill=\"currentColor\" x=\"225\">is</tspan>\n",
       "    <tspan class=\"displacy-tag\" dy=\"2em\" fill=\"currentColor\" x=\"225\">AUX</tspan>\n",
       "</text>\n",
       "\n",
       "<text class=\"displacy-token\" fill=\"currentColor\" text-anchor=\"middle\" y=\"309.5\">\n",
       "    <tspan class=\"displacy-word\" fill=\"currentColor\" x=\"400\">a</tspan>\n",
       "    <tspan class=\"displacy-tag\" dy=\"2em\" fill=\"currentColor\" x=\"400\">DET</tspan>\n",
       "</text>\n",
       "\n",
       "<text class=\"displacy-token\" fill=\"currentColor\" text-anchor=\"middle\" y=\"309.5\">\n",
       "    <tspan class=\"displacy-word\" fill=\"currentColor\" x=\"575\">sample</tspan>\n",
       "    <tspan class=\"displacy-tag\" dy=\"2em\" fill=\"currentColor\" x=\"575\">NOUN</tspan>\n",
       "</text>\n",
       "\n",
       "<text class=\"displacy-token\" fill=\"currentColor\" text-anchor=\"middle\" y=\"309.5\">\n",
       "    <tspan class=\"displacy-word\" fill=\"currentColor\" x=\"750\">sentence.</tspan>\n",
       "    <tspan class=\"displacy-tag\" dy=\"2em\" fill=\"currentColor\" x=\"750\">NOUN</tspan>\n",
       "</text>\n",
       "\n",
       "<g class=\"displacy-arrow\">\n",
       "    <path class=\"displacy-arc\" id=\"arrow-bce4a88e924c4b8ea481456b416927f4-0-0\" stroke-width=\"2px\" d=\"M70,264.5 C70,177.0 215.0,177.0 215.0,264.5\" fill=\"none\" stroke=\"currentColor\"/>\n",
       "    <text dy=\"1.25em\" style=\"font-size: 0.8em; letter-spacing: 1px\">\n",
       "        <textPath xlink:href=\"#arrow-bce4a88e924c4b8ea481456b416927f4-0-0\" class=\"displacy-label\" startOffset=\"50%\" side=\"left\" fill=\"currentColor\" text-anchor=\"middle\">nsubj</textPath>\n",
       "    </text>\n",
       "    <path class=\"displacy-arrowhead\" d=\"M70,266.5 L62,254.5 78,254.5\" fill=\"currentColor\"/>\n",
       "</g>\n",
       "\n",
       "<g class=\"displacy-arrow\">\n",
       "    <path class=\"displacy-arc\" id=\"arrow-bce4a88e924c4b8ea481456b416927f4-0-1\" stroke-width=\"2px\" d=\"M420,264.5 C420,89.5 745.0,89.5 745.0,264.5\" fill=\"none\" stroke=\"currentColor\"/>\n",
       "    <text dy=\"1.25em\" style=\"font-size: 0.8em; letter-spacing: 1px\">\n",
       "        <textPath xlink:href=\"#arrow-bce4a88e924c4b8ea481456b416927f4-0-1\" class=\"displacy-label\" startOffset=\"50%\" side=\"left\" fill=\"currentColor\" text-anchor=\"middle\">det</textPath>\n",
       "    </text>\n",
       "    <path class=\"displacy-arrowhead\" d=\"M420,266.5 L412,254.5 428,254.5\" fill=\"currentColor\"/>\n",
       "</g>\n",
       "\n",
       "<g class=\"displacy-arrow\">\n",
       "    <path class=\"displacy-arc\" id=\"arrow-bce4a88e924c4b8ea481456b416927f4-0-2\" stroke-width=\"2px\" d=\"M595,264.5 C595,177.0 740.0,177.0 740.0,264.5\" fill=\"none\" stroke=\"currentColor\"/>\n",
       "    <text dy=\"1.25em\" style=\"font-size: 0.8em; letter-spacing: 1px\">\n",
       "        <textPath xlink:href=\"#arrow-bce4a88e924c4b8ea481456b416927f4-0-2\" class=\"displacy-label\" startOffset=\"50%\" side=\"left\" fill=\"currentColor\" text-anchor=\"middle\">compound</textPath>\n",
       "    </text>\n",
       "    <path class=\"displacy-arrowhead\" d=\"M595,266.5 L587,254.5 603,254.5\" fill=\"currentColor\"/>\n",
       "</g>\n",
       "\n",
       "<g class=\"displacy-arrow\">\n",
       "    <path class=\"displacy-arc\" id=\"arrow-bce4a88e924c4b8ea481456b416927f4-0-3\" stroke-width=\"2px\" d=\"M245,264.5 C245,2.0 750.0,2.0 750.0,264.5\" fill=\"none\" stroke=\"currentColor\"/>\n",
       "    <text dy=\"1.25em\" style=\"font-size: 0.8em; letter-spacing: 1px\">\n",
       "        <textPath xlink:href=\"#arrow-bce4a88e924c4b8ea481456b416927f4-0-3\" class=\"displacy-label\" startOffset=\"50%\" side=\"left\" fill=\"currentColor\" text-anchor=\"middle\">attr</textPath>\n",
       "    </text>\n",
       "    <path class=\"displacy-arrowhead\" d=\"M750.0,266.5 L758.0,254.5 742.0,254.5\" fill=\"currentColor\"/>\n",
       "</g>\n",
       "</svg></span>"
      ],
      "text/plain": [
       "<IPython.core.display.HTML object>"
      ]
     },
     "metadata": {},
     "output_type": "display_data"
    }
   ],
   "source": [
    "# prompt: syntext tree python NLP\n",
    "\n",
    "import spacy\n",
    "from spacy import displacy\n",
    "\n",
    "nlp = spacy.load(\"en_core_web_sm\")\n",
    "text = \"This is a sample sentence.\"\n",
    "doc = nlp(text)\n",
    "\n",
    "displacy.render(doc, style=\"dep\", jupyter=True)\n"
   ]
  },
  {
   "cell_type": "markdown",
   "metadata": {},
   "source": [
    "## Chunking\n",
    "\n"
   ]
  },
  {
   "cell_type": "code",
   "execution_count": 10,
   "metadata": {},
   "outputs": [
    {
     "name": "stdout",
     "output_type": "stream",
     "text": [
      "We NP We\n",
      "the black panther NP panther\n"
     ]
    }
   ],
   "source": [
    "# prompt: chunking code\n",
    "\n",
    "nlp = spacy.load(\"en_core_web_sm\")\n",
    "text = \"We caught the black panther.\"\n",
    "doc = nlp(text)\n",
    "\n",
    "for chunk in doc.noun_chunks:\n",
    "  print(chunk.text, chunk.label_, chunk.root.text)\n"
   ]
  }
 ],
 "metadata": {
  "kernelspec": {
   "display_name": "menv",
   "language": "python",
   "name": "python3"
  },
  "language_info": {
   "codemirror_mode": {
    "name": "ipython",
    "version": 3
   },
   "file_extension": ".py",
   "mimetype": "text/x-python",
   "name": "python",
   "nbconvert_exporter": "python",
   "pygments_lexer": "ipython3",
   "version": "3.11.8"
  }
 },
 "nbformat": 4,
 "nbformat_minor": 2
}
