{
 "cells": [
  {
   "cell_type": "code",
   "execution_count": null,
   "metadata": {},
   "outputs": [],
   "source": [
    "%pip install sagemaker U"
   ]
  },
  {
   "cell_type": "code",
   "execution_count": null,
   "metadata": {},
   "outputs": [],
   "source": [
    "import sagemaker\n",
    "import boto3\n",
    "sess = sagemaker.Session()\n",
    "\n",
    "# sagemaker session bucket -> user for uploading data , model and logs\n",
    "# it will create bucket is something is not exist\n",
    "\n",
    "sagemaker_session_bucket = None\n",
    "if sagemaker_session_bucket is None and sess is not None:\n",
    "    # set to default bucket if a bucket name is not given\n",
    "    sagemaker_session_bucket = sess.default_bucket()\n",
    "    \n",
    "\n",
    "# Role Management\n",
    "try:\n",
    "    role = sagemaker.get_execution_role()\n",
    "except ValueError:\n",
    "    iam = boto3.client(\"iam\")\n",
    "    role = iam.get_role(RoleName ='sagemaker_execution_role')['Role']['Arn']\n",
    "    \n",
    "session = sagemaker.Session(default_bucket=sagemaker_session_bucket)\n",
    "print(f'sagemaker role arn:{role}')\n",
    "print(f'aremaker session region :{sess.boto_region_name}')\n"
   ]
  },
  {
   "cell_type": "code",
   "execution_count": null,
   "metadata": {},
   "outputs": [],
   "source": [
    "import sagemaker\n",
    "import boto3\n",
    "from sagemaker.huggingface import HuggingFaceModel\n",
    "\n",
    "\n",
    "# Hub Model configuration. https://huggingface.co/models\n",
    "hub = {\n",
    "\t'HF_MODEL_ID':'distilbert/distilbert-base-uncased-distilled-squad',\n",
    "\t'HF_TASK':'question-answering'\n",
    "}\n",
    "\n",
    "# create Hugging Face Model Class\n",
    "huggingface_model = HuggingFaceModel(\n",
    "\ttransformers_version='4.37.0',\n",
    "\tpytorch_version='2.1.0',\n",
    "\tpy_version='py310',\n",
    "\tenv=hub,\n",
    "\trole=role, \n",
    ")\n",
    "\n",
    "# deploy model to SageMaker Inference\n",
    "predictor = huggingface_model.deploy(\n",
    "\tinitial_instance_count=1, # number of instances\n",
    "\tinstance_type='ml.m5.xlarge' # ec2 instance type\n",
    ")\n",
    "\n",
    "predictor.predict({\n",
    "\t\"inputs\": {\n",
    "\t\"question\": \"What is my name?\",\n",
    "\t\"context\": \"My name is Clara and I live in Berkeley.\"\n",
    "},\n",
    "})\n"
   ]
  },
  {
   "cell_type": "markdown",
   "metadata": {},
   "source": [
    "# To check the endpoint when you set up the authentication "
   ]
  },
  {
   "cell_type": "code",
   "execution_count": null,
   "metadata": {},
   "outputs": [],
   "source": [
    "import requests\n",
    "import json\n",
    "import boto3\n",
    "from requests.auth import HTTPBasicAuth\n",
    "\n",
    "# The URL you provided\n",
    "url = \"https://runtime.sagemaker.ap-southeast-2.amazonaws.com/endpoints/huggingface-pytorch-inference-2024-08-19-12-48-28-089/invocations\"\n",
    "\n",
    "# AWS authentication using Boto3\n",
    "session = boto3.Session()\n",
    "credentials = session.get_credentials()\n",
    "auth = HTTPBasicAuth(credentials.access_key, credentials.secret_key)\n",
    "\n",
    "# Example payload\n",
    "data = {\n",
    "    \"input_text\": \"Hello, how can I help you today?\"\n",
    "}\n",
    "\n",
    "# Convert the data to JSON format\n",
    "payload = json.dumps(data)\n",
    "\n",
    "# Send a POST request to the endpoint\n",
    "response = requests.post(url, data=payload, headers={\"Content-Type\": \"application/json\"}, auth=auth)\n",
    "\n",
    "# Check the response\n",
    "if response.status_code == 200:\n",
    "    print(\"Success:\", response.json())\n",
    "else:\n",
    "    print(f\"Failed with status code: {response.status_code}\")\n",
    "    print(\"Response:\", response.text)\n"
   ]
  }
 ],
 "metadata": {
  "language_info": {
   "name": "python"
  }
 },
 "nbformat": 4,
 "nbformat_minor": 2
}
