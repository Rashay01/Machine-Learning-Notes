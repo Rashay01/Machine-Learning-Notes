{
 "cells": [
  {
   "cell_type": "markdown",
   "metadata": {},
   "source": [
    "# OpenCV on Images\n",
    "\n",
    "[openCV website](https://opencv.org/)"
   ]
  },
  {
   "cell_type": "code",
   "execution_count": 1,
   "metadata": {},
   "outputs": [],
   "source": [
    "import cv2\n",
    "#import numpy as np\n",
    "\n",
    "img = cv2.imread(\"images/lena.jpg\",1)\n",
    "\n",
    "ret, th = cv2.threshold(img, 125, 255, cv2.THRESH_BINARY)\n",
    "ret, th1 = cv2.threshold(img, 125, 255, cv2.THRESH_BINARY_INV)\n",
    "ret, th2 = cv2.threshold(img, 125, 255, cv2.THRESH_TOZERO)\n",
    "\n",
    "\n",
    "cv2.imshow(\"Hello World1\",img)\n",
    "cv2.imshow(\"Hello World2\",th)\n",
    "cv2.imshow(\"Hello World3\",th1)\n",
    "cv2.imshow(\"Hello World4\",th2)\n",
    "\n",
    "cv2.waitKey(0)\n",
    "\n",
    "cv2.destroyAllWindows()\n"
   ]
  },
  {
   "cell_type": "code",
   "execution_count": 3,
   "metadata": {},
   "outputs": [
    {
     "name": "stdout",
     "output_type": "stream",
     "text": [
      "(512, 512, 3)\n",
      "Height of the image:  512 pixels\n",
      "Width of the image:  512 pixels\n"
     ]
    }
   ],
   "source": [
    "import cv2\n",
    "\n",
    "img = cv2.imread(\"images/lena.jpg\")\n",
    "\n",
    "cv2.imshow(\"Hello World\",img)\n",
    "\n",
    "cv2.waitKey(0)\n",
    "\n",
    "print(img.shape)\n",
    "\n",
    "print(\"Height of the image: \", int(img.shape[0]), \"pixels\")\n",
    "print(\"Width of the image: \", int(img.shape[1]), \"pixels\")\n",
    "\n",
    "cv2.imwrite(\"Output.jpg\",img)\n",
    "cv2.imwrite(\"Output.png\",img)\n",
    "\n",
    "cv2.destroyAllWindows()"
   ]
  },
  {
   "cell_type": "markdown",
   "metadata": {},
   "source": [
    "# Videos\n",
    "\n",
    "code to take input from camera and save the result in current working directory\n",
    "\n",
    "train the photos taken from camera on with [app](https://teachablemachine.withgoogle.com/train/image)"
   ]
  },
  {
   "cell_type": "code",
   "execution_count": 4,
   "metadata": {},
   "outputs": [
    {
     "name": "stdout",
     "output_type": "stream",
     "text": [
      "opencv_frame_0.png written!\n",
      "opencv_frame_1.png written!\n",
      "opencv_frame_2.png written!\n",
      "Escape hit, closing...\n"
     ]
    }
   ],
   "source": [
    "import cv2\n",
    "import numpy as np\n",
    "cam = cv2.VideoCapture(0)\n",
    "cv2.namedWindow(\"test\")\n",
    "img_counter = 0\n",
    "while True:\n",
    "    ret, frame = cam.read()\n",
    "    cv2.imshow(\"test\", frame)\n",
    "    if not ret:\n",
    "        break\n",
    "    k = cv2.waitKey(1)\n",
    "    if k%256 == 27:\n",
    "        # ESC pressed\n",
    "        print(\"Escape hit, closing...\")\n",
    "        break\n",
    "    elif k%256 == 32:\n",
    "        # SPACE pressed\n",
    "        img_name = \"opencv_frame_{}.png\".format(img_counter)\n",
    "        cv2.imwrite(img_name, frame)\n",
    "        print(\"{} written!\".format(img_name))\n",
    "        img_counter += 1\n",
    "cam.release()\n",
    "cv2.destroyAllWindows()\n"
   ]
  }
 ],
 "metadata": {
  "kernelspec": {
   "display_name": "menv",
   "language": "python",
   "name": "python3"
  },
  "language_info": {
   "codemirror_mode": {
    "name": "ipython",
    "version": 3
   },
   "file_extension": ".py",
   "mimetype": "text/x-python",
   "name": "python",
   "nbconvert_exporter": "python",
   "pygments_lexer": "ipython3",
   "version": "3.11.8"
  }
 },
 "nbformat": 4,
 "nbformat_minor": 2
}
