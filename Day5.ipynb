{
 "cells": [
  {
   "cell_type": "markdown",
   "metadata": {},
   "source": [
    "# Generative AI\n",
    "\n",
    "Combination of deep learning a part of AI that creates new content\n",
    "\n",
    "- Digital transformation - AI, ML IoT, cloud computing, quantum computing all emerging technologies\n",
    "- Digital Mindset - brining the above mindset to our everyday life\n",
    "\n",
    "\n",
    "Reinforcement learning - learning using rewards and penalties. "
   ]
  },
  {
   "cell_type": "markdown",
   "metadata": {},
   "source": [
    "# Create a PPT in GPT\n",
    "\n",
    "Give prompt of the info mation\n",
    "\n",
    "Create VBA code to create power point presentation for 10 slides based on the above information\n",
    "\n",
    "power point --> View --> Macro-> Provide any name  --> create _> save --> close --> run macro"
   ]
  },
  {
   "cell_type": "markdown",
   "metadata": {},
   "source": [
    "<!-- ![Decision tree](./images/notes/CreatePPT.png \"Decision tree image notes\") -->"
   ]
  },
  {
   "cell_type": "markdown",
   "metadata": {},
   "source": [
    "## Text to image\n",
    "\n",
    "https://miramuseai.net/app\n",
    "\n",
    "https://copilot.microsoft.com/images\n",
    "\n",
    "## Text to video\n",
    "\n",
    "https://ai.invideo.io/"
   ]
  },
  {
   "cell_type": "markdown",
   "metadata": {},
   "source": [
    "# Hugging face \n",
    "- different types of models\n",
    "- like kaggel\n"
   ]
  },
  {
   "cell_type": "markdown",
   "metadata": {},
   "source": []
  }
 ],
 "metadata": {
  "kernelspec": {
   "display_name": "menv",
   "language": "python",
   "name": "python3"
  },
  "language_info": {
   "codemirror_mode": {
    "name": "ipython",
    "version": 3
   },
   "file_extension": ".py",
   "mimetype": "text/x-python",
   "name": "python",
   "nbconvert_exporter": "python",
   "pygments_lexer": "ipython3",
   "version": "3.11.8"
  }
 },
 "nbformat": 4,
 "nbformat_minor": 2
}
